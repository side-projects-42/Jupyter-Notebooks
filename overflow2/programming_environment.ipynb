{
 "cells": [
  {
   "cell_type": "markdown",
   "metadata": {},
   "source": [
    "Programming Environment\n",
    "===\n",
    "Your *programming environment* is the computer you do your work on, and all the software that's installed on your system which helps you write and run programs. Some systems are better for programming than others, but the best system to learn on is probably the one you are using right now. This section will help you get your system set up so you can start writing programs quickly."
   ]
  },
  {
   "cell_type": "markdown",
   "metadata": {},
   "source": [
    "[Home](http://nbviewer.ipython.org/urls/raw.github.com/ehmatthes/intro_programming/master/notebooks/index.ipynb) | \n",
    "[Next: Hello World](http://nbviewer.ipython.org/urls/raw.github.com/ehmatthes/intro_programming/master/notebooks/hello_world.ipynb)"
   ]
  },
  {
   "cell_type": "markdown",
   "metadata": {},
   "source": [
    "Contents\n",
    "===\n",
    "- [Overview](#Overview)\n",
    "- [All Systems](#All-Systems)\n",
    "    - [Linux](#Linux)\n",
    "    - [Mac](#Mac)\n",
    "    - [Windows](#Windows)"
   ]
  },
  {
   "cell_type": "markdown",
   "metadata": {},
   "source": [
    "Overview\n",
    "===\n",
    "Our goal is to help you get Python up and running on your computer, so that you can write and run your own programs. To do this, we want to:\n",
    "\n",
    "- Find out if Python is already installed on your computer.\n",
    "- Install Python, if it is not already installed.\n",
    "- Install a text editor that will make it easy to run your first programs.\n",
    "- Help you enter and run Hello World, your first Python program.\n",
    "- Congratulate you if it works, and give you some options for troubleshooting if it doesn't work."
   ]
  },
  {
   "cell_type": "markdown",
   "metadata": {},
   "source": [
    "All Systems\n",
    "===\n",
    "We're going to be mostly objective about which system you might want to consider using as you begin to learn Python, but we'll also share a bit of opinion on the matter. We'll be objective by being open about the strengths and weaknesses of each system. We'll be opinionated by letting you know what some good programmers use, and why they use it.\n",
    "\n",
    "If you don't already have a favorite text editor for programming, we're going to use Geany or Sublime Text. These editors make it easy to write and run your first programs. There are other editors that many professional programmers prefer, but you want to spend your time learning to program, not learning how to use an editor. Unless you have a good reason to use another editor, go ahead and install Geany or Sublime Text on your system."
   ]
  },
  {
   "cell_type": "markdown",
   "metadata": {},
   "source": [
    "Linux\n",
    "---\n",
    "If you already know that you'd like to take programming seriously, you might want to consider learning to use Linux. The people who build Linux expect you to program at some point, so they've built the system to make it as easy as possible to get started.\n",
    "\n",
    "Most Linux systems already have Python installed, so we'll just verify that it's installed, and then install Geany.\n",
    "\n",
    "[Setting up a Linux system](http://nbviewer.ipython.org/urls/raw.github.com/ehmatthes/intro_programming/master/notebooks/programming_environment_linux.ipynb)"
   ]
  },
  {
   "cell_type": "markdown",
   "metadata": {},
   "source": [
    "Mac\n",
    "---\n",
    "If you go to a Python conference or meetup, you're likely to see more Macbooks than any other computer. So Macs are certainly a good platform on which to learn Python. Many of the people you see using Macbooks are actually running some distribution of Linux on their Mac, and running Python within a virtual Linux machine. You don't have to worry about that yet, just know that if you continue to grow as a programmer your Mac will probably continue to serve you quite well.\n",
    "\n",
    "Python 2.7 is probably already installed on your Mac, so we'll just verify that it is installed, and then install Sublime Text. If you want to start with Python 3, we'll walk you through setting up Python 3 on your system as well.\n",
    "\n",
    "[Setting up an OS X system](http://nbviewer.ipython.org/urls/raw.github.com/ehmatthes/intro_programming/master/notebooks/programming_environment_osx.ipynb)"
   ]
  },
  {
   "cell_type": "markdown",
   "metadata": {},
   "source": [
    "Windows\n",
    "---\n",
    "Python doesn't come pre-installed on most Windows computers, but you can download an installer that will set Python up for you. Once you have Python installed and running, it's pretty straightforward to install Geany, and then configure it to run Python programs.\n",
    "\n",
    "[Setting up a Windows system](http://nbviewer.ipython.org/urls/raw.github.com/ehmatthes/intro_programming/master/notebooks/programming_environment_windows.ipynb)"
   ]
  },
  {
   "cell_type": "markdown",
   "metadata": {},
   "source": [
    "[top](#)"
   ]
  },
  {
   "cell_type": "markdown",
   "metadata": {},
   "source": [
    "- - -\n",
    "[Home](http://nbviewer.ipython.org/urls/raw.github.com/ehmatthes/intro_programming/master/notebooks/index.ipynb) | \n",
    "[Next: Hello World](http://nbviewer.ipython.org/urls/raw.github.com/ehmatthes/intro_programming/master/notebooks/hello_world.ipynb)"
   ]
  }
 ],
 "metadata": {
  "kernelspec": {
   "display_name": "Python 3",
   "language": "python",
   "name": "python3"
  },
  "language_info": {
   "codemirror_mode": {
    "name": "ipython",
    "version": 3
   },
   "file_extension": ".py",
   "mimetype": "text/x-python",
   "name": "python",
   "nbconvert_exporter": "python",
   "pygments_lexer": "ipython3",
   "version": "3.4.3"
  }
 },
 "nbformat": 4,
 "nbformat_minor": 0
}
