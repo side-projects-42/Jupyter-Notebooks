{
 "metadata": {
  "name": "programming_competencies"
 },
 "nbformat": 3,
 "nbformat_minor": 0,
 "worksheets": [
  {
   "cells": [
    {
     "cell_type": "markdown",
     "metadata": {},
     "source": [
      "Programming Competencies\n",
      "===\n",
      "What should your goals be if you want to become a strong programmer?"
     ]
    },
    {
     "cell_type": "markdown",
     "metadata": {},
     "source": [
      "Programming Environment\n",
      "---\n",
      "- Know the strengths and weaknesses of your OS and distribution.\n",
      "- Know how to rebuild your system from scratch, when you break your build."
     ]
    },
    {
     "cell_type": "markdown",
     "metadata": {},
     "source": [
      "Programming Essentials\n",
      "---\n",
      "- Know the basics in your language.\n",
      "- Continue to develop your programming toolbox, within your language of choice."
     ]
    },
    {
     "cell_type": "markdown",
     "metadata": {},
     "source": [
      "Project Focus\n",
      "---\n",
      "- Know your main interest in programming: If you had infinite programming skills, what would you want to build?"
     ]
    },
    {
     "cell_type": "markdown",
     "metadata": {},
     "source": [
      "Other skills and knowledge areas\n",
      "---\n",
      "- Databases\n",
      "- Sysadmin skills"
     ]
    }
   ],
   "metadata": {}
  }
 ]
}