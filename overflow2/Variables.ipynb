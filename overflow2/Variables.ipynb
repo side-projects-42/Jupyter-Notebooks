{
 "cells": [
  {
   "cell_type": "markdown",
   "metadata": {},
   "source": [
    "Variables\n",
    "===\n",
    "\n",
    "- What is a variable?\n",
    "- What can you use variables for?\n",
    "- How do you store information in a variable?\n",
    "- What is a string?\n",
    "- How do you use a variable's value in a string?"
   ]
  },
  {
   "cell_type": "code",
   "execution_count": 2,
   "metadata": {},
   "outputs": [
    {
     "name": "stdout",
     "output_type": "stream",
     "text": [
      "Hello devin.\n",
      "Hello psalm.\n",
      "Hello philip.\n"
     ]
    }
   ],
   "source": [
    "print(\"Hello devin.\")\n",
    "print(\"Hello psalm.\")\n",
    "print(\"Hello philip.\")"
   ]
  },
  {
   "cell_type": "code",
   "execution_count": 3,
   "metadata": {},
   "outputs": [
    {
     "name": "stdout",
     "output_type": "stream",
     "text": [
      "Hello devin.\n"
     ]
    }
   ],
   "source": [
    "msg = \"Hello devin.\"\n",
    "print(msg)s"
   ]
  },
  {
   "cell_type": "markdown",
   "metadata": {},
   "source": [
    "Assignment:\n",
    "- Write a two-line hello program that uses a variable.\n",
    "- Do it again."
   ]
  },
  {
   "cell_type": "markdown",
   "metadata": {},
   "source": [
    "M 11/5\n",
    "---\n",
    "- What are the rules for naming variables?\n",
    "- What is a string?\n",
    "- How do you use a variable in a string?"
   ]
  },
  {
   "cell_type": "markdown",
   "metadata": {},
   "source": [
    "Naming variables:\n",
    "- letters, underscores, numbers\n",
    "- can't start with a number\n",
    "- can't have spaces\n",
    "- good:\n",
    "  - msg\n",
    "  - message\n",
    "  - user_20\n",
    "- bad:\n",
    "  - my_long_message_to_evan\n",
    "  - user_twenty\n",
    "- illegal:\n",
    "  - 20_user\n",
    "  - user number 20"
   ]
  },
  {
   "cell_type": "markdown",
   "metadata": {},
   "source": [
    "What is a string?\n",
    "- simplest data types\n",
    "- collection of characters\n",
    "- examples\n",
    "  - \"Hello john.\"\n",
    "  - \"Hello evan.\"\n",
    "  - \"user_20\""
   ]
  },
  {
   "cell_type": "markdown",
   "metadata": {},
   "source": [
    "How do you use a variable in a string?"
   ]
  },
  {
   "cell_type": "code",
   "execution_count": 1,
   "metadata": {},
   "outputs": [
    {
     "name": "stdout",
     "output_type": "stream",
     "text": [
      "Hello, killian!\n"
     ]
    }
   ],
   "source": [
    "name = 'killian'\n",
    "print(f\"Hello, {name}!\")"
   ]
  },
  {
   "cell_type": "code",
   "execution_count": 4,
   "metadata": {},
   "outputs": [
    {
     "name": "stdout",
     "output_type": "stream",
     "text": [
      "I go to school at phs.\n"
     ]
    }
   ],
   "source": [
    "place = 'phs'\n",
    "print(f\"I go to school at {place}.\")"
   ]
  },
  {
   "cell_type": "code",
   "execution_count": 2,
   "metadata": {},
   "outputs": [
    {
     "name": "stdout",
     "output_type": "stream",
     "text": [
      "I am 16 years old.\n"
     ]
    }
   ],
   "source": [
    "age = 16\n",
    "print(f\"I am {age} years old.\")"
   ]
  },
  {
   "cell_type": "code",
   "execution_count": 3,
   "metadata": {},
   "outputs": [
    {
     "name": "stdout",
     "output_type": "stream",
     "text": [
      "killian and psalm are the greatest!\n"
     ]
    }
   ],
   "source": [
    "name_1 = 'killian'\n",
    "name_2 = 'psalm'\n",
    "print(f\"{name_1} and {name_2} are the greatest!\")"
   ]
  },
  {
   "cell_type": "code",
   "execution_count": 9,
   "metadata": {},
   "outputs": [
    {
     "name": "stdout",
     "output_type": "stream",
     "text": [
      "Hello, eric!\n",
      "Hello, devin!\n",
      "Hello, philip!\n",
      "Hello, abraham!\n"
     ]
    }
   ],
   "source": [
    "names = ['eric', 'devin', 'philip', 'abraham']\n",
    "for name in names:\n",
    "    print(f\"Hello, {name}!\")"
   ]
  }
 ],
 "metadata": {
  "kernelspec": {
   "display_name": "Python 3",
   "language": "python",
   "name": "python3"
  },
  "language_info": {
   "codemirror_mode": {
    "name": "ipython",
    "version": 3
   },
   "file_extension": ".py",
   "mimetype": "text/x-python",
   "name": "python",
   "nbconvert_exporter": "python",
   "pygments_lexer": "ipython3",
   "version": "3.6.1"
  }
 },
 "nbformat": 4,
 "nbformat_minor": 2
}
