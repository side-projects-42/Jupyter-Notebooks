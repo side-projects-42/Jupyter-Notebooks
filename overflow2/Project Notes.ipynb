{
 "cells": [
  {
   "cell_type": "markdown",
   "metadata": {},
   "source": [
    "Project Notes\n",
    "===\n",
    "\n",
    "A notebook for examples of projects, and snippets related to projects."
   ]
  },
  {
   "cell_type": "markdown",
   "metadata": {},
   "source": [
    "Configuring Geany\n",
    "---\n",
    "\n",
    "Python uses indentation to indicate which block a line of code is associated with. Python files need to be all spaces, or all tabs. We'll use all spaces.\n",
    "\n",
    "- In Geany, go to Edit > Preferences.\n",
    "- Click on the Editor tab.\n",
    "- Click on the Indentation tab.\n",
    "- Tabs is selected by default; select Spaces instead.\n",
    "- Click OK.\n",
    "\n",
    "Now when you press Tab, it will insert spaces for you.\n",
    "\n",
    "If you get an error about mixing tabs and spaces:\n",
    "\n",
    "- In Geany, click Document > Replace Tabs with Spaces"
   ]
  },
  {
   "cell_type": "markdown",
   "metadata": {},
   "source": [
    "Everyone's project needs:\n",
    "---\n",
    "\n",
    "- A brief, written description:\n",
    "  - Describe your project in one sentence.\n",
    "  - Why are you doing this project?\n",
    "  - What features will your project include?\n",
    "  - What will it not include?\n",
    "  \n",
    "- Working code!\n",
    "- Put your code into your digital portfolio folder.\n",
    "- Participate in culmination."
   ]
  },
  {
   "cell_type": "markdown",
   "metadata": {},
   "source": [
    "Individual Project Notes\n",
    "---\n",
    "\n",
    "- KD\n",
    "  - Write your description.\n",
    "  - Install Python 3.6, and libraries.\n",
    "  - Run the identify frequency code.\n",
    "    - Wrap this code in a function you can call anytime you want.\n",
    "  - Put these snippets together to write a program that does what you imagined.\n",
    "- PM\n",
    "  - Write your description.\n",
    "  - Install needed libraries.\n",
    "  - Run the code to generate a blank photo from an original photo.\n",
    "  - Let's look at modifying pixels."
   ]
  }
 ],
 "metadata": {
  "kernelspec": {
   "display_name": "Python 3",
   "language": "python",
   "name": "python3"
  },
  "language_info": {
   "codemirror_mode": {
    "name": "ipython",
    "version": 3
   },
   "file_extension": ".py",
   "mimetype": "text/x-python",
   "name": "python",
   "nbconvert_exporter": "python",
   "pygments_lexer": "ipython3",
   "version": "3.6.1"
  }
 },
 "nbformat": 4,
 "nbformat_minor": 2
}
