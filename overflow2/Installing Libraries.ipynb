{
 "cells": [
  {
   "cell_type": "markdown",
   "metadata": {},
   "source": [
    "Installing Libraries\n",
    "---\n",
    "\n",
    "A library is code someone else wrote, that you can build on. Examples: game frameworks, audio libraries, web frameworks."
   ]
  },
  {
   "cell_type": "markdown",
   "metadata": {},
   "source": [
    "`> python -m pip install --user pyaudio`\n",
    "\n",
    "This tells python to run the pip module, which is a package installer. This says to install the pyaudio package to your account. You shouldn't run into permission issues on school computers with this command.\n",
    "\n",
    "If you're installing on your own system, and you want a library available to everyone who uses the computer, you can leave off the `--user` flag:\n",
    "\n",
    "`> python -m pip install pyaudio`"
   ]
  }
 ],
 "metadata": {
  "kernelspec": {
   "display_name": "Python 3",
   "language": "python",
   "name": "python3"
  },
  "language_info": {
   "codemirror_mode": {
    "name": "ipython",
    "version": 3
   },
   "file_extension": ".py",
   "mimetype": "text/x-python",
   "name": "python",
   "nbconvert_exporter": "python",
   "pygments_lexer": "ipython3",
   "version": "3.6.1"
  }
 },
 "nbformat": 4,
 "nbformat_minor": 2
}
