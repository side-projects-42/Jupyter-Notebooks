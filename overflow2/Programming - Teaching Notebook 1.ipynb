{
 "cells": [
  {
   "cell_type": "markdown",
   "metadata": {
    "collapsed": true
   },
   "source": [
    "Opening questions:\n",
    "---\n",
    "(M 10/29)\n",
    "\n",
    "- What is programming?\n",
    "  - the use of a language to build a program for purpose of executing a task (kd)\n",
    "  - understanding how sites, games, apps are created (ea)\n",
    "    - any difference between an app and a site? (em)\n",
    "- What can you do as a programmer?\n",
    "  - code for a business\n",
    "  - create games\n",
    "  - create apps\n",
    "- What can you not do as a programmer?\n",
    "  - achieve immortality\n",
    "    - certainly not now; do you think this will ever be possible\n",
    "  - jarvis/ friday\n",
    "    - how close are we? how close could we ever get\n",
    "  - anything that doesn't have to do with a computer/ device\n",
    "  - you can't create antigravity\n",
    "- What would you like to do as a programmer?\n",
    "  - i want to make a dynamic real-time audio visualizer (kd)\n",
    "  - make a game (think of a simple 2d game to clone, or invent) (pb, ea)\n",
    "  - make a photo filter\n",
    "  - clone a simple app you like (twitter, snapchat, facegram)\n",
    "- Agree/ Disagree: A programmer can have enough power to shape society. (explain)\n",
    "  - agree (kd, ea)\n",
    "    - \"we're an age built on technology\" \"you have a lot of power because you have knowledge\" \"you have knowledge on how they were created\" \"if you're good enough you can build your own\" \"so many businesses rely on that\" (ea)\n",
    "  - kind of (pm)\n",
    "    - \"not everything is based off of technology\" (pm)\n",
    "- What is the internet?\n",
    "  - \"a series of tubes!\" (ted stevens)\n",
    "  - a network of connected devices, and the rules for how devices can communicate"
   ]
  },
  {
   "cell_type": "markdown",
   "metadata": {},
   "source": [
    "T 10/30\n",
    "\n",
    "- Finish reviewing open questions\n",
    "  - show markdown\n",
    "- quick demo\n",
    "  - generating computer names in python\n",
    "  - generating computer names in c\n",
    "- installing python\n",
    "  - student computers are named PHS-HP-xxx\n",
    "  - 64-bit OS!\n",
    "  - installed on: 1 (ea)\n",
    "    - installed under my account, C:\\Programs\\Python37\n",
    "    - had to manually add to path\n",
    "    - 19\n",
    "      - checked \"install for all users\" and it worked with path automatically\n",
    "- installing geany\n",
    "  - configuring geany?\n",
    "  - installed on: 1, 19\n",
    "- demo: hello world\n",
    "- assignment: hello.py\n",
    "  - can you save this and run it from home drive?"
   ]
  },
  {
   "cell_type": "code",
   "execution_count": 1,
   "metadata": {},
   "outputs": [
    {
     "name": "stdout",
     "output_type": "stream",
     "text": [
      "Hello psalm!\n"
     ]
    }
   ],
   "source": [
    "print(\"Hello psalm!\")"
   ]
  },
  {
   "cell_type": "code",
   "execution_count": 2,
   "metadata": {},
   "outputs": [
    {
     "name": "stdout",
     "output_type": "stream",
     "text": [
      "Hello philip!\n"
     ]
    }
   ],
   "source": [
    "print(\"Hello philip!\")"
   ]
  },
  {
   "cell_type": "code",
   "execution_count": 3,
   "metadata": {},
   "outputs": [
    {
     "name": "stdout",
     "output_type": "stream",
     "text": [
      "Hello eric!\n"
     ]
    }
   ],
   "source": [
    "print(\"Hello eric!\")"
   ]
  },
  {
   "cell_type": "markdown",
   "metadata": {},
   "source": [
    "W 10/31\n",
    "\n",
    "- What exactly is the \"workshop\" model?\n",
    "  - teach in 10-20 min chunks, then you use that\n",
    "- installing python\n",
    "  - student computers are named PHS-HP-xxx\n",
    "  - 64-bit OS!\n",
    "  - installed on: 1 (ea)\n",
    "    - installed under my account, C:\\Programs\\Python37\n",
    "    - had to manually add to path\n",
    "    - 19 (pm)\n",
    "      - checked \"install for all users\" and it worked with path automatically\n",
    "    - philip 12, killian 23, devin 24, abraham 28\n",
    "- installing geany\n",
    "  - configuring geany?\n",
    "  - installed on: 1, 19\n",
    "- demo: hello world\n",
    "- assignment: hello.py\n",
    "  - can you save this and run it from home drive?\n",
    "    - yes\n",
    "- lesson: variables\n",
    "  - separate notebook"
   ]
  },
  {
   "cell_type": "code",
   "execution_count": 1,
   "metadata": {},
   "outputs": [
    {
     "name": "stdout",
     "output_type": "stream",
     "text": [
      "Hello larger programming group!\n"
     ]
    }
   ],
   "source": [
    "print(\"Hello larger programming group!\")"
   ]
  },
  {
   "cell_type": "markdown",
   "metadata": {},
   "source": [
    "Next\n",
    "---\n",
    "- install python on all computers\n",
    "- install geany on all computers\n",
    "- make these notebooks publicly available"
   ]
  },
  {
   "cell_type": "markdown",
   "metadata": {},
   "source": [
    "Closing questions\n",
    "- What if half of all high school students had the knowledge and skills you now have?"
   ]
  }
 ],
 "metadata": {
  "kernelspec": {
   "display_name": "Python 3",
   "language": "python",
   "name": "python3"
  },
  "language_info": {
   "codemirror_mode": {
    "name": "ipython",
    "version": 3
   },
   "file_extension": ".py",
   "mimetype": "text/x-python",
   "name": "python",
   "nbconvert_exporter": "python",
   "pygments_lexer": "ipython3",
   "version": "3.6.1"
  }
 },
 "nbformat": 4,
 "nbformat_minor": 2
}
