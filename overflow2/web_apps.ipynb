{
 "metadata": {
  "name": ""
 },
 "nbformat": 3,
 "nbformat_minor": 0,
 "worksheets": [
  {
   "cells": [
    {
     "cell_type": "markdown",
     "metadata": {},
     "source": [
      "Web Applications\n",
      "===\n",
      "Many people who want to learn Python these days are looking to write web applications. Web apps are web sites that do something unique. If you understand how to develop web apps, you can ask for any input you want from users, and you can do just about anything you want with that input."
     ]
    },
    {
     "cell_type": "markdown",
     "metadata": {},
     "source": [
      "[Home](http://nbviewer.ipython.org/urls/raw.github.com/ehmatthes/intro_programming/master/notebooks/index.ipynb)"
     ]
    },
    {
     "cell_type": "markdown",
     "metadata": {},
     "source": [
      "Contents\n",
      "===\n",
      "- [What is a web app?](#what)\n",
      "- [How web appts work](#how)\n",
      "- [Python web frameworks](#python_frameworks)"
     ]
    },
    {
     "cell_type": "markdown",
     "metadata": {},
     "source": [
      "[top](#)"
     ]
    },
    {
     "cell_type": "markdown",
     "metadata": {},
     "source": [
      "What is a web app?\n",
      "---\n",
      "A web app takes in data from users, and does something with that data. There are all kinds of examples of web apps:\n",
      "\n",
      "- [Dropbox](http://dropbox.com) takes in files from users, and makes them available to that user and perhaps other users.\n",
      "- [Gittip](http://gittip.org) allows people to create recurring tips to people who are doing projects that benefit others.\n",
      "- [Twitter](http://twitter.com) allows people to send short messages to followers.\n",
      "\n",
      "These examples all go beyond just managing content online. If you are just looking to manage content, you should be looking at a content-management system (CMS)."
     ]
    },
    {
     "cell_type": "markdown",
     "metadata": {},
     "source": [
      "[top](#)"
     ]
    },
    {
     "cell_type": "markdown",
     "metadata": {},
     "source": [
      "How web apps work\n",
      "---\n",
      "Web apps tie together lots of different kinds of programming. To understand what kinds of things you will get into in creating a web app, consider how a typical app works:\n",
      "\n",
      "- Pull together different bits of data in order to present a set of pages to the user\n",
      "- Take in new data from the user\n",
      "- Clean and process all data that is received\n",
      "- Store relevant parts of the data in a database\n",
      "\n",
      "In order to make all of this happen, you need to develop some understanding of:\n",
      "\n",
      "- Web architecture (html, css, javascript)\n",
      "- Web protocols (http requests)\n",
      "- Security issues (unpredictable and untrustworthy data, ongoing attacks by countless bots)\n",
      "- Database maintenance issues\n",
      "- Server infrastructure\n",
      "\n",
      "Modern frameworks take care of a lot of the lower-level details of these aspects, but if you are going to make decent web apps you will end up learning a good deal about all of this. The good news is it can be pretty interesting, and even fun to pull all of these pieces together to solve real problems for your users."
     ]
    },
    {
     "cell_type": "markdown",
     "metadata": {},
     "source": [
      "[top](#)"
     ]
    },
    {
     "cell_type": "markdown",
     "metadata": {},
     "source": [
      "Python web frameworks\n",
      "---\n",
      "Python has a number of frameworks that can help you create and maintain a web app:\n",
      "\n",
      "- Django\n",
      "- Flask\n",
      "- Pyramid"
     ]
    },
    {
     "cell_type": "markdown",
     "metadata": {},
     "source": [
      "- - -\n",
      "[Home](http://nbviewer.ipython.org/urls/raw.github.com/ehmatthes/intro_programming/master/notebooks/index.ipynb)"
     ]
    }
   ],
   "metadata": {}
  }
 ]
}