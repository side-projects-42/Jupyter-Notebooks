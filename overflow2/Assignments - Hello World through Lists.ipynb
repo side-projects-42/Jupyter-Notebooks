{
 "cells": [
  {
   "cell_type": "markdown",
   "metadata": {},
   "source": [
    "Assignments\n",
    "==="
   ]
  },
  {
   "cell_type": "markdown",
   "metadata": {},
   "source": [
    "Hello World\n",
    "---\n",
    "\n",
    "Purpose: Show that you can write and run a Python program.\n",
    "\n",
    "- Write a *hello.py* program that prints a one-line greeting.\n",
    "- Write two more one-line programs that print a message to the screen.\n",
    "\n",
    "I should see a python_work folder in your home drive, and three .py files inside."
   ]
  },
  {
   "cell_type": "markdown",
   "metadata": {},
   "source": [
    "Variables\n",
    "---\n",
    "\n",
    "Purpose: Show that you can store a value in a variable.\n",
    "\n",
    "- Write a program that stores a message in a variable, and then prints that message."
   ]
  },
  {
   "cell_type": "markdown",
   "metadata": {},
   "source": [
    "Using Variables in Strings (f-strings)\n",
    "---\n",
    "\n",
    "Purpose: Show that you can use a variable inside a string.\n",
    "\n",
    "- *my_f_strings.py*\n",
    "  - Write 3 print statements that include at least one variable each."
   ]
  },
  {
   "cell_type": "markdown",
   "metadata": {},
   "source": [
    "About Lists\n",
    "---\n",
    "\n",
    "Don't write a program, just answer this in English. Use a journal, word doc, google docs.\n",
    "\n",
    "- What is a list?\n",
    "- What kinds of things can you do with a list? (ie add item, remove item)\n",
    "- Name a specific game, app, application. How might a list be used in this context?\n",
    "\n"
   ]
  },
  {
   "cell_type": "markdown",
   "metadata": {},
   "source": [
    "Working with Lists\n",
    "---\n",
    "\n",
    "Purpose: Show that you can define a list, and access items in the list. You can name your programs anything you want, as long as it ends in .py and indicates something about what the program does.\n",
    "\n",
    "Consider lists like favorite_places, excellent_teachers, motorcycles, mountains, rivers, good_politicians, snapchat_users, etc.\n",
    "\n",
    "- *my_first_list.py*\n",
    "  - Make a program that includes a list. Choose the kinds of things you want to store in a list, and a name for the list. Store at least 5 items in the list.\n",
    "  - Print three items from the list, or three messages that include items from the list.\n",
    "  \n",
    "- *my_second_list.py*\n",
    "  - Make a program that includes a list. You are free to copy your list from the last program, but make sure you're working in a new file with a different filename.\n",
    "  - Use `append()` at least three times to add items to your list.\n",
    "  - Print three items from the list, or three messages that include items from the list.\n",
    "    - Make sure you print the first item, and item somewhere in the middle, and the last item.\n",
    "    \n",
    "You can repeat these exercises as many times as you like, to become comfortable with creating lists.\n"
   ]
  },
  {
   "cell_type": "markdown",
   "metadata": {},
   "source": [
    "Modifying Lists\n",
    "---\n",
    "\n",
    "Purpose: Show that you can modify individual items in a list; remove items from a list; and slice a list.\n",
    "\n",
    "- *modifying_lists.py*\n",
    "  - Make a list, or copy and paste a list from one of your other programs.\n",
    "  - Print your list.\n",
    "  - Use `remove()`, `del`, and `pop()` to remove at least three items from your list.\n",
    "  - Print the new list to show that these items were removed.\n",
    "  - Change one of the values in your list without redefining the whole list.\n",
    "  - Print the list to show that one of the values has changed.\n",
    "  - You may break this assignment into several different programs, if that makes it easier to show that you can do these different things.\n",
    "  \n",
    "- *slicing_lists.py*\n",
    "  - Make a list, and print a slice of that list.\n",
    "  \n",
    "You can repeat this exercise if you want in order to better understand these functions."
   ]
  },
  {
   "cell_type": "markdown",
   "metadata": {},
   "source": [
    "Looping through Lists\n",
    "---\n",
    "\n",
    "Purpose: Show that you can use looping to work efficiently with all of the items in a list.\n",
    "\n",
    "- *first_loop.py*\n",
    "  - Make a list, or copy one from another of your programs.\n",
    "  - Use a loop to print every item in your list.\n",
    "  - Use a loop to print a message using every item in your list.\n",
    "  \n",
    "Repeat this for two other lists that you've made.\n",
    "\n",
    "- *building_new_list.py*\n",
    "  - Make a list.\n",
    "  - Use a loop to build a new list, that's based off the first list.\n",
    "  - Print both lists."
   ]
  },
  {
   "cell_type": "markdown",
   "metadata": {},
   "source": [
    "Numerical lists (optional)\n",
    "---\n",
    "\n",
    "Purpose: Show that you can use the `range()` function to build a numerical list that matches a specific pattern.\n",
    "\n",
    "- *my_numerical_pattern.py*\n",
    "  - Identify a numerical pattern that you'd like to make. Write a comment that describes this pattern. It should be a pattern that no one else in the class has made.\n",
    "  - Use the `range()` function and a loop to generate the list you thought of.\n",
    "  - Print the list."
   ]
  },
  {
   "cell_type": "markdown",
   "metadata": {},
   "source": [
    "Tuples\n",
    "---\n",
    "\n",
    "Purpose: Show that you can use what you've learned about lists to work with a tuple.\n",
    "\n",
    "- *my_first_tuple.py*\n",
    "  - Think of a list that you could create, that would be unlikely to change over time.\n",
    "  - Describe this list in a comment.\n",
    "  - Write this list using a tuple.\n",
    "  - Loop through the tuple and print a message about each item in the tuple."
   ]
  }
 ],
 "metadata": {
  "kernelspec": {
   "display_name": "Python 3",
   "language": "python",
   "name": "python3"
  },
  "language_info": {
   "codemirror_mode": {
    "name": "ipython",
    "version": 3
   },
   "file_extension": ".py",
   "mimetype": "text/x-python",
   "name": "python",
   "nbconvert_exporter": "python",
   "pygments_lexer": "ipython3",
   "version": "3.6.1"
  }
 },
 "nbformat": 4,
 "nbformat_minor": 2
}
