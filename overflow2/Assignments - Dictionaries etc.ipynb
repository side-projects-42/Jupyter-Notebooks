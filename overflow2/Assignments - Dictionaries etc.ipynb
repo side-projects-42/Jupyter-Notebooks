{
 "cells": [
  {
   "cell_type": "markdown",
   "metadata": {},
   "source": [
    "Assignments: Dictionaries etc.\n",
    "==="
   ]
  },
  {
   "cell_type": "markdown",
   "metadata": {},
   "source": [
    "About Dictionaries\n",
    "---\n",
    "\n",
    "- What is a dictionary?\n",
    "- What can you do with a dictionary?\n",
    "- Choose a real-world app or situation, and describe how a dictionary might be used in that situation."
   ]
  },
  {
   "cell_type": "markdown",
   "metadata": {},
   "source": [
    "Person Dictionary\n",
    "---\n",
    "\n",
    "Make a dictionary that represents a person. Think of five kinds of information that you can store about a person. Use a dictionary to store this information. Print all the information in your dictionary."
   ]
  },
  {
   "cell_type": "markdown",
   "metadata": {},
   "source": [
    "Looping through a Dictionary\n",
    "---\n",
    "\n",
    "Start with your person dictionary, or make a dictionary related to the project you want to do. Write three loops, printing specific information from your dictionary:\n",
    "\n",
    "- Loop through the key-value pairs in your dictionary.\n",
    "- Loop through just the keys in your dictionary.\n",
    "- Loop through just the values in your dictionary."
   ]
  },
  {
   "cell_type": "markdown",
   "metadata": {},
   "source": [
    "About Functions\n",
    "---\n",
    "\n",
    "- What is a function?\n",
    "- What can you do with a function?\n",
    "- Give a specific example of how a function might be used in an app or other real-world program you're aware of."
   ]
  },
  {
   "cell_type": "markdown",
   "metadata": {},
   "source": [
    "Simple Function\n",
    "---\n",
    "\n",
    "Think of a simple real-world situation you want to simulate, like a dog barking. Write a one-line function that prints a statement about this situation.\n",
    "\n",
    "Call your function and show that it works."
   ]
  },
  {
   "cell_type": "markdown",
   "metadata": {},
   "source": [
    "Simple Function with Arguments\n",
    "---\n",
    "\n",
    "Make a new version of your function that takes in one piece of information related to this situation. Use this piece of information in your print statement.\n",
    "\n",
    "Call your function and show that it works."
   ]
  },
  {
   "cell_type": "markdown",
   "metadata": {},
   "source": [
    "About Classes\n",
    "---\n",
    "\n",
    "- What is a class?\n",
    "- What can you do with a class?\n",
    "- Give an example of how a class might be used in a real-world app or situation you're interested in."
   ]
  },
  {
   "cell_type": "markdown",
   "metadata": {},
   "source": [
    "Simple Class\n",
    "---\n",
    "\n",
    "Think of something you'd like to represent with a class. Write a simple class that stores two pieces of information, and simulates one behavior.\n",
    "\n",
    "Make an object from your class. Print the information that's stored in the class, and carry out the behavior that's represented in the class."
   ]
  }
 ],
 "metadata": {
  "kernelspec": {
   "display_name": "Python 3",
   "language": "python",
   "name": "python3"
  },
  "language_info": {
   "codemirror_mode": {
    "name": "ipython",
    "version": 3
   },
   "file_extension": ".py",
   "mimetype": "text/x-python",
   "name": "python",
   "nbconvert_exporter": "python",
   "pygments_lexer": "ipython3",
   "version": "3.6.1"
  }
 },
 "nbformat": 4,
 "nbformat_minor": 2
}
