{
 "cells": [
  {
   "cell_type": "markdown",
   "metadata": {},
   "source": [
    "Assignments - Real World Examples\n",
    "==="
   ]
  },
  {
   "cell_type": "markdown",
   "metadata": {},
   "source": [
    "Motion-Activated Lights\n",
    "---\n",
    "\n",
    "Once you have covered if statements and working with input, you have enough understanding to model some real-world situations. Many lights these days are light- and motion- activated. They turn only when they detect motion at night.\n",
    "\n",
    "Write a program that asks two questions:\n",
    "- Is it dark out?\n",
    "- Is anyone moving nearby?\n",
    "\n",
    "After answering these two questions, your program shoud either print \"The light is staying off\" or \"The light is turning on!\"\n",
    "\n",
    "*This is exactly the code that's running inside every motion-activated light you see. Instead of printing a message, the code turns a switch on or off inside the light.*"
   ]
  },
  {
   "cell_type": "markdown",
   "metadata": {},
   "source": [
    "Dishes!\n",
    "---\n",
    "\n",
    "(dedicated to Philip on 11/19/18)\n",
    "\n",
    "Once you know about lists, you can write a dishwasher-selection program. You also need to know about the `choice` function, which selects a random item from a list:\n",
    "    \n",
    "    from random import choice\n",
    "\n",
    "\ttickets = ['abraham', 'evan', 'eric', 'roger', 'eric m', 'devin', 'killian']\n",
    "\n",
    "\twinner = choice(tickets)\n",
    "\tprint(f\"The winner is: {winner}!\")\n",
    "\n",
    "Write a program that stores at least 10 students names in a list, and randomly selects two students for dishes. These students should be removed from the list of potential dishwashers once they have been selected.\n",
    "\n",
    "**Bonus:** Once you have learned about loops, keep the program running as long as the user wants more dishwashing pairs. When the list is empty, inform the user that it's empty and refill the list if they want to keep getting dishwashers.\n",
    "\n",
    "**Super Bonus:** Let the user indicate whether each person is present or not, and select another student if they're absent.\n",
    "\n",
    "**Just for fun:** Make yourself less likely to be selected than others. Make someone else more likely to be selected than someone else."
   ]
  }
 ],
 "metadata": {
  "kernelspec": {
   "display_name": "Python 3",
   "language": "python",
   "name": "python3"
  },
  "language_info": {
   "codemirror_mode": {
    "name": "ipython",
    "version": 3
   },
   "file_extension": ".py",
   "mimetype": "text/x-python",
   "name": "python",
   "nbconvert_exporter": "python",
   "pygments_lexer": "ipython3",
   "version": "3.6.1"
  }
 },
 "nbformat": 4,
 "nbformat_minor": 2
}
