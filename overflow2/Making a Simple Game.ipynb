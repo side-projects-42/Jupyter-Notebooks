{
 "cells": [
  {
   "cell_type": "markdown",
   "metadata": {},
   "source": [
    "Making a Simple Game\n",
    "===\n",
    "\n",
    "We've now learned enough to make a simple game. We'll make a game called Hero Game, where the hero can move around the left side of the screen. The hero must collect good things and avoid bad things.\n",
    "\n",
    "You'll learn about user-controlled and automated movement. You'll learn about collisions, and how to respond to them.\n",
    "\n",
    "That's the heart of all video games. Almost everything else is refinement of these core concepts."
   ]
  },
  {
   "cell_type": "markdown",
   "metadata": {},
   "source": [
    "Stage 1: Making an empty game window appear.\n",
    "---\n",
    "\n",
    "Make a folder for your project. We'll work in stages, so you can always go back to a working version of your project without having to start over.\n",
    "\n",
    "This would be saved in a folder called *sideways_hero_stage_one*, or *sideways_hero_1*, or even *sh_1*. You should make a similar folder for your project.\n",
    "\n",
    "This file should be called *sh_game.py*, or *sideways_hero_game.py*, or something specific like that."
   ]
  },
  {
   "cell_type": "code",
   "execution_count": null,
   "metadata": {
    "collapsed": true
   },
   "outputs": [],
   "source": [
    "# sh_game.py\n",
    "\n",
    "import sys\n",
    "\n",
    "import pygame\n",
    "\n",
    "class SidewaysHero:\n",
    "    \"\"\"Overall class to manage game assets and behavior.\"\"\"\n",
    "\n",
    "    def __init__(self):\n",
    "        \"\"\"Initialize the game, and create game resources.\"\"\"\n",
    "        pygame.init()\n",
    "\n",
    "        self.screen = pygame.display.set_mode((1200, 800))\n",
    "        pygame.display.set_caption(\"Sideways Hero\")\n",
    "\n",
    "    def run_game(self):\n",
    "        \"\"\"Start the main loop for the game.\"\"\"\n",
    "        while True:\n",
    "            # Watch for keyboard and mouse events.\n",
    "            for event in pygame.event.get():\n",
    "                if event.type == pygame.QUIT:\n",
    "                    sys.exit()\n",
    "\n",
    "            # Make the most recently drawn screen visible.\n",
    "            pygame.display.flip()\n",
    "\n",
    "if __name__ == '__main__':\n",
    "    # Make a game instance, and run the game.\n",
    "    sh_game = SidewaysHero()\n",
    "    sh_game.run_game()"
   ]
  },
  {
   "cell_type": "markdown",
   "metadata": {},
   "source": [
    "Stage 2: Making a character appear\n",
    "---\n",
    "\n",
    "Make a copy of your *sideways_hero_1* folder, and rename it *sideways_hero_2* (or something more appropriate for your game). This way if you mess up the next stage, you won't have to start over from the beginning.\n",
    "\n",
    "Make a folder called *images* inside your *sideways_hero_2* folder. Find an image to use for your character, and save it into this folder. If it's not a *.bmp* file, open it in Paint and Save As to make it a *.bmp* file. You can also use Paint to resize your image to an appropriate size.\n",
    "\n",
    "Make a new file called *ship.py*. This file will represent your character's image, and behavior. Copy the following code into your file, and make any changes that make this code apply to your game."
   ]
  },
  {
   "cell_type": "code",
   "execution_count": null,
   "metadata": {
    "collapsed": true
   },
   "outputs": [],
   "source": [
    "import pygame\n",
    "\n",
    "class Ship:\n",
    "    \"\"\"A class to manage the ship.\"\"\"\n",
    "\n",
    "    def __init__(self, sh_game):\n",
    "        \"\"\"Initialize the ship and set its starting position.\"\"\"\n",
    "        self.screen = sh_game.screen\n",
    "        self.screen_rect = sh_game.screen.get_rect()\n",
    "\n",
    "        # Load the ship image and get its rect.\n",
    "        self.image = pygame.image.load('images/ship.bmp')\n",
    "        self.rect = self.image.get_rect()\n",
    "\n",
    "        # Start each new ship at the bottom center of the screen.\n",
    "        self.rect.midbottom = self.screen_rect.midbottom\n",
    "\n",
    "    def blitme(self):\n",
    "        \"\"\"Draw the ship at its current location.\"\"\"\n",
    "        self.screen.blit(self.image, self.rect)"
   ]
  },
  {
   "cell_type": "markdown",
   "metadata": {},
   "source": [
    "Now modify your *sh_game.py* file so it loads your image (line 5), creates an object to represent your character (line 17), and draws your character to the screen (line 27):"
   ]
  },
  {
   "cell_type": "code",
   "execution_count": null,
   "metadata": {
    "collapsed": true
   },
   "outputs": [],
   "source": [
    "import sys\n",
    "\n",
    "import pygame\n",
    "\n",
    "from ship import Ship    # line 5\n",
    "\n",
    "class SidewaysHero:\n",
    "    \"\"\"Overall class to manage game assets and behavior.\"\"\"\n",
    "\n",
    "    def __init__(self):\n",
    "        \"\"\"Initialize the game, and create game resources.\"\"\"\n",
    "        pygame.init()\n",
    "\n",
    "        self.screen = pygame.display.set_mode((1200, 800))\n",
    "        pygame.display.set_caption(\"Sideways Hero\")\n",
    "\n",
    "        self.ship = Ship(self)    # line 17\n",
    "\n",
    "    def run_game(self):\n",
    "        \"\"\"Start the main loop for the game.\"\"\"\n",
    "        while True:\n",
    "            # Watch for keyboard and mouse events.\n",
    "            for event in pygame.event.get():\n",
    "                if event.type == pygame.QUIT:\n",
    "                    sys.exit()\n",
    "\n",
    "            self.ship.blitme()    # line 27\n",
    "\n",
    "            # Make the most recently drawn screen visible.\n",
    "            pygame.display.flip()\n",
    "\n",
    "if __name__ == '__main__':\n",
    "    # Make a game instance, and run the game.\n",
    "    sh_game = SidewaysHero()\n",
    "    sh_game.run_game()"
   ]
  },
  {
   "cell_type": "markdown",
   "metadata": {},
   "source": [
    "Run this file, and you should see your game character on the screen.\n",
    "\n",
    "It's quite likely you'll see some errors. Try to resolve each error that appears, and ask at least one other person if you find an error you can't fix."
   ]
  },
  {
   "cell_type": "markdown",
   "metadata": {},
   "source": [
    "If you want to place your character somewhere other than the middle bottom of the screen, here's the Pygame documentation for [rect objects](https://www.pygame.org/docs/ref/rect.html). The first yellow box lists all the attributes of a rect object you can work with such as `top`, `bottom`, `center`, etc.\n",
    "\n",
    "Also, here's a [visual representation](https://stackoverflow.com/questions/31025688/whats-the-difference-between-the-width-and-w-attribute-of-a-pygame-rect-objec) of these attributes, showing exactly what part of the rectangle each coordinate or pair of coordinates refers to. Remember, `screen.get_rect()` or `screen_rect` (if it's been defined), have these same attributes available."
   ]
  },
  {
   "cell_type": "markdown",
   "metadata": {},
   "source": [
    "Stage 3: Simple Movement\n",
    "---\n",
    "\n",
    "Now that you have your character on the screen, movement is much easier. First, make a copy of your *sideways_hero_2* folder, and rename the copy as *sideways_hero_3*. If you mess things up in this stage, you don't want to have to start over!\n",
    "\n",
    "All of the work in this first part will be in your main game file, *sh_game.py*. First we'll print a message that a certain key was pressed. We'll focus on the up arrow key. Add another `if` block to the main event loop, to focus on responding to key presses:"
   ]
  },
  {
   "cell_type": "code",
   "execution_count": null,
   "metadata": {
    "collapsed": true
   },
   "outputs": [],
   "source": [
    "import sys\n",
    "\n",
    "import pygame\n",
    "\n",
    "from ship import Ship\n",
    "\n",
    "class SidewaysHero:\n",
    "    \"\"\"Overall class to manage game assets and behavior.\"\"\"\n",
    "\n",
    "    def __init__(self):\n",
    "        \"\"\"Initialize the game, and create game resources.\"\"\"\n",
    "        pygame.init()\n",
    "\n",
    "        self.screen = pygame.display.set_mode((1200, 800))\n",
    "        pygame.display.set_caption(\"Sideways Hero\")\n",
    "\n",
    "        self.ship = Ship(self)\n",
    "\n",
    "    def run_game(self):\n",
    "        \"\"\"Start the main loop for the game.\"\"\"\n",
    "        while True:\n",
    "            # Watch for keyboard and mouse events.\n",
    "            for event in pygame.event.get():\n",
    "                if event.type == pygame.QUIT:\n",
    "                    sys.exit()\n",
    "                if event.type == pygame.KEYDOWN:      # Start here\n",
    "                    # Respond to any keys that have been pressed.\n",
    "                    if event.key == pygame.K_UP:\n",
    "                        # Up key has been pressed!\n",
    "                        print(\"Up key pressed\")\n",
    "                        \n",
    "            self.ship.blitme()\n",
    "\n",
    "            # Make the most recently drawn screen visible.\n",
    "            pygame.display.flip()\n",
    "\n",
    "if __name__ == '__main__':\n",
    "    # Make a game instance, and run the game.\n",
    "    sh_game = SidewaysHero()\n",
    "    sh_game.run_game()"
   ]
  },
  {
   "cell_type": "markdown",
   "metadata": {},
   "source": [
    "You'll probably want to focus on a different key. Check the [pygame.key](https://www.pygame.org/docs/ref/key.html) documentation to see all of the available key codes.\n",
    "\n",
    "Run this code, and make sure you only see *Up key pressed* when the up key is pressed, and not when any other key is pressed."
   ]
  },
  {
   "cell_type": "markdown",
   "metadata": {},
   "source": [
    "### Using a keypress to move the character\n",
    "\n",
    "Now, when the key is pressed, we want to increase or decrease the x or y value of the rect associated with your character. Remember that the top left of the screen is (0, 0).\n",
    "\n",
    "Here's how we make the ship move up every time the up arrow key is pressed:"
   ]
  },
  {
   "cell_type": "code",
   "execution_count": null,
   "metadata": {
    "collapsed": true
   },
   "outputs": [],
   "source": [
    "import sys\n",
    "\n",
    "import pygame\n",
    "\n",
    "from ship import Ship\n",
    "\n",
    "class SidewaysHero:\n",
    "    \"\"\"Overall class to manage game assets and behavior.\"\"\"\n",
    "\n",
    "    def __init__(self):\n",
    "        \"\"\"Initialize the game, and create game resources.\"\"\"\n",
    "        pygame.init()\n",
    "\n",
    "        self.screen = pygame.display.set_mode((1200, 800))\n",
    "        pygame.display.set_caption(\"Sideways Hero\")\n",
    "\n",
    "        self.ship = Ship(self)\n",
    "\n",
    "    def run_game(self):\n",
    "        \"\"\"Start the main loop for the game.\"\"\"\n",
    "        while True:\n",
    "            # Watch for keyboard and mouse events.\n",
    "            for event in pygame.event.get():\n",
    "                if event.type == pygame.QUIT:\n",
    "                    sys.exit()\n",
    "                if event.type == pygame.KEYDOWN:\n",
    "                    if event.key == pygame.K_UP:\n",
    "                        # Up key has been pressed!\n",
    "                        #  We want the ship to move up.\n",
    "                        self.ship.rect.y -= 10               # Look here\n",
    "\n",
    "            self.screen.fill((255, 255, 255))                # and here\n",
    "            self.ship.blitme()\n",
    "\n",
    "            # Make the most recently drawn screen visible.\n",
    "            pygame.display.flip()\n",
    "\n",
    "if __name__ == '__main__':\n",
    "    # Make a game instance, and run the game.\n",
    "    sh_game = SidewaysHero()\n",
    "    sh_game.run_game()\n"
   ]
  },
  {
   "cell_type": "markdown",
   "metadata": {},
   "source": [
    "The code\n",
    "\n",
    "    self.ship.rect.y -= 10\n",
    "    \n",
    "tells Python to take the current y value of the ship's rect, and subtract 10 from it.\n",
    "\n",
    "The code\n",
    "\n",
    "    self.screen.fill((255, 255, 255))\n",
    "    \n",
    "fills the screen with white on every pass through the `while` loop. This makes a fresh, clean background for us to draw our characters to in their new positions."
   ]
  },
  {
   "cell_type": "markdown",
   "metadata": {},
   "source": [
    "### Movement in all directions\n",
    "\n",
    "Now you can make movement in any direction possible:"
   ]
  },
  {
   "cell_type": "code",
   "execution_count": null,
   "metadata": {
    "collapsed": true
   },
   "outputs": [],
   "source": [
    "import sys\n",
    "\n",
    "import pygame\n",
    "\n",
    "from ship import Ship\n",
    "\n",
    "class SidewaysHero:\n",
    "    \"\"\"Overall class to manage game assets and behavior.\"\"\"\n",
    "\n",
    "    def __init__(self):\n",
    "        \"\"\"Initialize the game, and create game resources.\"\"\"\n",
    "        pygame.init()\n",
    "\n",
    "        self.screen = pygame.display.set_mode((1200, 800))\n",
    "        pygame.display.set_caption(\"Sideways Hero\")\n",
    "\n",
    "        self.ship = Ship(self)\n",
    "\n",
    "    def run_game(self):\n",
    "        \"\"\"Start the main loop for the game.\"\"\"\n",
    "        while True:\n",
    "            # Watch for keyboard and mouse events.\n",
    "            for event in pygame.event.get():\n",
    "                if event.type == pygame.QUIT:\n",
    "                    sys.exit()\n",
    "                if event.type == pygame.KEYDOWN:\n",
    "                    if event.key == pygame.K_UP:\n",
    "                        # Up key has been pressed!\n",
    "                        #  We want the ship to move up.\n",
    "                        self.ship.rect.y -= 10\n",
    "                    if event.key == pygame.K_DOWN:            # Look here\n",
    "                        self.ship.rect.y += 10\n",
    "                    if event.key == pygame.K_RIGHT:\n",
    "                        # Player wants to move right.\n",
    "                        self.ship.rect.x += 10\n",
    "                    if event.key == pygame.K_LEFT:\n",
    "                        self.ship.rect.x -= 10\n",
    "\n",
    "            self.screen.fill((255, 255, 255))\n",
    "            self.ship.blitme()\n",
    "\n",
    "            # Make the most recently drawn screen visible.\n",
    "            pygame.display.flip()\n",
    "\n",
    "if __name__ == '__main__':\n",
    "    # Make a game instance, and run the game.\n",
    "    sh_game = SidewaysHero()\n",
    "    sh_game.run_game()\n"
   ]
  },
  {
   "cell_type": "markdown",
   "metadata": {},
   "source": [
    "### Limiting motion.\n",
    "\n",
    "I want to restrict the player to the left portion of the screen. When they press the right arrow key, I'm only going to move them if they're on the left side of the screen:"
   ]
  },
  {
   "cell_type": "code",
   "execution_count": null,
   "metadata": {
    "collapsed": true
   },
   "outputs": [],
   "source": [
    "import sys\n",
    "\n",
    "import pygame\n",
    "\n",
    "from ship import Ship\n",
    "\n",
    "class SidewaysHero:\n",
    "    \"\"\"Overall class to manage game assets and behavior.\"\"\"\n",
    "\n",
    "    def __init__(self):\n",
    "        \"\"\"Initialize the game, and create game resources.\"\"\"\n",
    "        pygame.init()\n",
    "\n",
    "        self.screen = pygame.display.set_mode((1200, 800))\n",
    "        pygame.display.set_caption(\"Sideways Hero\")\n",
    "\n",
    "        self.ship = Ship(self)\n",
    "\n",
    "    def run_game(self):\n",
    "        \"\"\"Start the main loop for the game.\"\"\"\n",
    "        while True:\n",
    "            # Watch for keyboard and mouse events.\n",
    "            for event in pygame.event.get():\n",
    "                if event.type == pygame.QUIT:\n",
    "                    sys.exit()\n",
    "                if event.type == pygame.KEYDOWN:\n",
    "                    if event.key == pygame.K_UP:\n",
    "                        # Up key has been pressed!\n",
    "                        #  We want the ship to move up.\n",
    "                        self.ship.rect.y -= 10\n",
    "                    if event.key == pygame.K_DOWN:\n",
    "                        self.ship.rect.y += 10\n",
    "                    if event.key == pygame.K_RIGHT:\n",
    "                        # Player wants to move right.\n",
    "                        #  Only let them, if x < 100.                             # Look here\n",
    "                        if self.ship.rect.right < self.screen_rect.right:\n",
    "                            self.ship.rect.x += 10\n",
    "                    if event.key == pygame.K_LEFT:\n",
    "                        self.ship.rect.x -= 10\n",
    "\n",
    "            self.screen.fill((255, 255, 255))\n",
    "            self.ship.blitme()\n",
    "\n",
    "            # Make the most recently drawn screen visible.\n",
    "            pygame.display.flip()\n",
    "\n",
    "if __name__ == '__main__':\n",
    "    # Make a game instance, and run the game.\n",
    "    sh_game = SidewaysHero()\n",
    "    sh_game.run_game()"
   ]
  },
  {
   "cell_type": "markdown",
   "metadata": {},
   "source": [
    "You can limit the character's movement any way you want:\n",
    "\n",
    "    # Keep the ship from going past the right edge of the screen\n",
    "    if self.ship.right < self.screen.get_rect().right\n",
    "    \n",
    "    # Keep the ship from going off the top of the screen\n",
    "    if self.ship.top > 0"
   ]
  },
  {
   "cell_type": "markdown",
   "metadata": {},
   "source": [
    "Stage 4: Continuous Movement\n",
    "---\n",
    "\n",
    "In many games, you want the character to continue moving as long as a key is pressed. To do this, you use the key press to set a variable to True, and move the character whenever the value is True. When the key is released, you change the value back to False."
   ]
  },
  {
   "cell_type": "markdown",
   "metadata": {},
   "source": [
    "### Continuous movement to the right\n",
    "\n",
    "First, add a variable to *ship.py* that will let us know whether the ship should be moving or not. Also, add an `update()` method that we can call to update the position of the ship."
   ]
  },
  {
   "cell_type": "code",
   "execution_count": null,
   "metadata": {
    "collapsed": true
   },
   "outputs": [],
   "source": [
    "import pygame\n",
    "\n",
    "class Ship:\n",
    "    \"\"\"A class to manage the ship.\"\"\"\n",
    "\n",
    "    def __init__(self, sh_game):\n",
    "        \"\"\"Initialize the ship and set its starting position.\"\"\"\n",
    "        self.screen = sh_game.screen\n",
    "        self.screen_rect = sh_game.screen.get_rect()\n",
    "\n",
    "        # Load the ship image and get its rect.\n",
    "        self.image = pygame.image.load('images/ship.bmp')\n",
    "        self.rect = self.image.get_rect()\n",
    "\n",
    "        # Start each new ship at the bottom center of the screen.\n",
    "        self.rect.midleft = self.screen_rect.midleft\n",
    "\n",
    "        # Movement flags.\n",
    "        self.moving_right = False        # Look at this\n",
    "\n",
    "    def update(self):                    # And this \n",
    "        if self.moving_right:\n",
    "            self.rect.x += 1\n",
    "\n",
    "    def blitme(self):\n",
    "        \"\"\"Draw the ship at its current location.\"\"\"\n",
    "        self.screen.blit(self.image, self.rect)"
   ]
  },
  {
   "cell_type": "markdown",
   "metadata": {},
   "source": [
    "In the *sh_game.py* file, use the key presses to set the value of `moving_right` to `True`. When a key is released, set the value back to `False`. Also, make a call to the `update()` method."
   ]
  },
  {
   "cell_type": "code",
   "execution_count": null,
   "metadata": {
    "collapsed": true
   },
   "outputs": [],
   "source": [
    "import sys\n",
    "\n",
    "import pygame\n",
    "\n",
    "from ship import Ship\n",
    "\n",
    "class SidewaysHero:\n",
    "    \"\"\"Overall class to manage game assets and behavior.\"\"\"\n",
    "\n",
    "    def __init__(self):\n",
    "        \"\"\"Initialize the game, and create game resources.\"\"\"\n",
    "        pygame.init()\n",
    "\n",
    "        self.screen = pygame.display.set_mode((1200, 800))\n",
    "        pygame.display.set_caption(\"Sideways Hero\")\n",
    "\n",
    "        self.ship = Ship(self)\n",
    "\n",
    "    def run_game(self):\n",
    "        \"\"\"Start the main loop for the game.\"\"\"\n",
    "        while True:\n",
    "            # Watch for keyboard and mouse events.\n",
    "            for event in pygame.event.get():\n",
    "                if event.type == pygame.QUIT:\n",
    "                    sys.exit()\n",
    "                if event.type == pygame.KEYDOWN:\n",
    "                    if event.key == pygame.K_RIGHT:\n",
    "                        self.ship.moving_right = True                           # Look here\n",
    "                elif event.type == pygame.KEYUP:                                #   and here\n",
    "                    if event.key == pygame.K_RIGHT:\n",
    "                        self.ship.moving_right = False\n",
    "\n",
    "            # Update positions of any characters that might be moving.\n",
    "            self.ship.update()                                                  # and here\n",
    "\n",
    "            self.screen.fill((255, 255, 255))\n",
    "            self.ship.blitme()\n",
    "\n",
    "            # Make the most recently drawn screen visible.\n",
    "            pygame.display.flip()\n",
    "\n",
    "if __name__ == '__main__':\n",
    "    # Make a game instance, and run the game.\n",
    "    sh_game = SidewaysHero()\n",
    "    sh_game.run_game()"
   ]
  },
  {
   "cell_type": "markdown",
   "metadata": {},
   "source": [
    "If you want to limit movement, that code should be placed in the `update()` method of *ship.py*."
   ]
  },
  {
   "cell_type": "code",
   "execution_count": null,
   "metadata": {
    "collapsed": true
   },
   "outputs": [],
   "source": [
    "class Ship:\n",
    "    \"\"\"A class to manage the ship.\"\"\"\n",
    "\n",
    "    def __init__(self, sh_game):\n",
    "        ...\n",
    "       \n",
    "    def update(self): \n",
    "        if self.moving_right:\n",
    "            if self.rect.right < 400:        # Look here\n",
    "                self.rect.x += 1\n",
    "\n",
    "    def blitme(self):\n",
    "        ..."
   ]
  },
  {
   "cell_type": "markdown",
   "metadata": {},
   "source": [
    "Remember that your limits might look different, for example keeping the ship from disappearing off the right edge of the screen:\n",
    "\n",
    "    if self.rect.right < self.screen_rect.right"
   ]
  },
  {
   "cell_type": "markdown",
   "metadata": {},
   "source": [
    "Stage 5: A second character (or characters)\n",
    "---\n",
    "\n",
    "Most games have a second character, and often times this character's movement is automated. In this section we'll make evil ships that fly right to left across the screen, that the player's ship is supposed to avoid.\n",
    "\n",
    "If you understand how your first character is created and controlled, this section should be pretty straightforward. We'll choose an image, make a class to represent the character, and call `update()` and `blitme()` from the *sh_game.py* file. We'll also create a Group to hold the collection of alien ships. Groups are really helpful when you start to deal with collisions in the final section.\n",
    "\n",
    "To start, make a class to represent your new character. Choose an appropriate name for the class. Make sure you load the image for this character, not your first character. Decide where the character should first appear on the screen. (Remember that `randint()` chooses a random number between the numbers you provide. Finally, make a set of rules for how this character's position should change on every pass through the game loop."
   ]
  },
  {
   "cell_type": "code",
   "execution_count": null,
   "metadata": {
    "collapsed": true
   },
   "outputs": [],
   "source": [
    "import pygame\n",
    "\n",
    "from random import randint                                             # Look here, if you're using random numbers.\n",
    "\n",
    "class AlienShip:                                                       # Look here\n",
    "    \"\"\"A class to manage the ship.\"\"\"\n",
    "\n",
    "    def __init__(self, sh_game):\n",
    "        \"\"\"Initialize the ship and set its starting position.\"\"\"\n",
    "        self.screen = sh_game.screen\n",
    "        self.screen_rect = sh_game.screen.get_rect()\n",
    "\n",
    "        # Load the ship image and get its rect.\n",
    "        self.image = pygame.image.load('images/alien_ship.bmp')        # Look here\n",
    "        self.rect = self.image.get_rect()\n",
    "\n",
    "        # Start each new ship at a random position on the right        # Look here\n",
    "        #  side of the screen\n",
    "        self.rect.left = self.screen_rect.right\n",
    "        self.rect.y = randint(0, self.screen_rect.height)\n",
    "\n",
    "    def update(self):\n",
    "        # The alien ships will always move from right to left,         # look here\n",
    "        #  and randomly up and down.\n",
    "        self.rect.x -= 1\n",
    "        self.rect.y += randint(-5, 5)\n",
    "\n",
    "    def blitme(self):\n",
    "        \"\"\"Draw the ship at its current location.\"\"\"\n",
    "        self.screen.blit(self.image, self.rect)"
   ]
  },
  {
   "cell_type": "markdown",
   "metadata": {},
   "source": [
    "Now update the game file to import the new character class, create the character, call its `update()` method, and then its `blitme()` method:"
   ]
  },
  {
   "cell_type": "code",
   "execution_count": null,
   "metadata": {
    "collapsed": true
   },
   "outputs": [],
   "source": [
    "import sys\n",
    "\n",
    "import pygame\n",
    "\n",
    "from ship import Ship\n",
    "from alien_ship import AlienShip                                                  # Look here\n",
    "\n",
    "class SidewaysHero:\n",
    "    \"\"\"Overall class to manage game assets and behavior.\"\"\"\n",
    "\n",
    "    def __init__(self):\n",
    "        \"\"\"Initialize the game, and create game resources.\"\"\"\n",
    "        pygame.init()\n",
    "\n",
    "        self.screen = pygame.display.set_mode((1200, 800))\n",
    "        pygame.display.set_caption(\"Sideways Hero\")\n",
    "\n",
    "        self.ship = Ship(self)\n",
    "        self.alien_ship = AlienShip(self)                                         # and here\n",
    "\n",
    "    def run_game(self):\n",
    "        \"\"\"Start the main loop for the game.\"\"\"\n",
    "        while True:\n",
    "            # Watch for keyboard and mouse events.\n",
    "            for event in pygame.event.get():\n",
    "                if event.type == pygame.QUIT:\n",
    "                    sys.exit()\n",
    "                if event.type == pygame.KEYDOWN:\n",
    "                    if event.key == pygame.K_RIGHT:\n",
    "                        self.ship.moving_right = True\n",
    "                elif event.type == pygame.KEYUP:\n",
    "                    if event.key == pygame.K_RIGHT:\n",
    "                        self.ship.moving_right = False\n",
    "\n",
    "            # Update positions of any characters that might be moving.\n",
    "            self.ship.update()\n",
    "            self.alien_ship.update()                                             # and here\n",
    "\n",
    "            self.screen.fill((255, 255, 255))\n",
    "            self.ship.blitme()\n",
    "            self.alien_ship.blitme()                                             # and here\n",
    "\n",
    "            # Make the most recently drawn screen visible.\n",
    "            pygame.display.flip()\n",
    "\n",
    "if __name__ == '__main__':\n",
    "    # Make a game instance, and run the game.\n",
    "    sh_game = SidewaysHero()\n",
    "    sh_game.run_game()"
   ]
  },
  {
   "cell_type": "markdown",
   "metadata": {},
   "source": [
    "When you run your game now, you should see your second character appear, and move on its own."
   ]
  },
  {
   "cell_type": "markdown",
   "metadata": {},
   "source": [
    "If you need to make a group of objects, you need to create a `Group`, create more than one of this character, and add these characters to the group.\n",
    "\n",
    "First modify *alien_ship.py* so the ships can be part of a group:"
   ]
  },
  {
   "cell_type": "code",
   "execution_count": null,
   "metadata": {
    "collapsed": true
   },
   "outputs": [],
   "source": [
    "import pygame\n",
    "from pygame.sprite import Sprite                                               # Look here\n",
    "\n",
    "from random import randint\n",
    "\n",
    "class AlienShip(Sprite):                                                       # Look here\n",
    "    \"\"\"A class to manage the ship.\"\"\"\n",
    "\n",
    "    def __init__(self, sh_game):\n",
    "        \"\"\"Initialize the ship and set its starting position.\"\"\"\n",
    "        super().__init__()                                                     # look here\n",
    "        self.screen = sh_game.screen\n",
    "        self.screen_rect = sh_game.screen.get_rect()\n",
    "\n",
    "        # Load the ship image and get its rect.\n",
    "        self.image = pygame.image.load('images/alien_ship.bmp')\n",
    "        self.rect = self.image.get_rect()\n",
    "\n",
    "        # Start each new ship at a random position on the right\n",
    "        #  side of the screen\n",
    "        self.rect.left = self.screen_rect.right\n",
    "        self.rect.y = randint(0, self.screen_rect.height)\n",
    "\n",
    "    def update(self):\n",
    "        # The alien ships will always move from right to left,\n",
    "        #  and randomly up and down.\n",
    "        self.rect.x -= 1\n",
    "        self.rect.y += randint(-5, 5)\n",
    "\n",
    "    def blitme(self):\n",
    "        \"\"\"Draw the ship at its current location.\"\"\"\n",
    "        self.screen.blit(self.image, self.rect)"
   ]
  },
  {
   "cell_type": "markdown",
   "metadata": {},
   "source": [
    "Now modify the game file to use a group, and create more than one alien:"
   ]
  },
  {
   "cell_type": "code",
   "execution_count": null,
   "metadata": {
    "collapsed": true
   },
   "outputs": [],
   "source": [
    "import sys\n",
    "\n",
    "import pygame\n",
    "\n",
    "from ship import Ship\n",
    "from alien_ship import AlienShip\n",
    "\n",
    "class SidewaysHero:\n",
    "    \"\"\"Overall class to manage game assets and behavior.\"\"\"\n",
    "\n",
    "    def __init__(self):\n",
    "        \"\"\"Initialize the game, and create game resources.\"\"\"\n",
    "        pygame.init()\n",
    "\n",
    "        self.screen = pygame.display.set_mode((1200, 800))\n",
    "        pygame.display.set_caption(\"Sideways Hero\")\n",
    "\n",
    "        self.ship = Ship(self)\n",
    "\n",
    "        # Make a group of three aliens.                                     # Look here\n",
    "        self.aliens = pygame.sprite.Group()\n",
    "        for alien_num in range(3):\n",
    "            new_alien = AlienShip(self)\n",
    "            self.aliens.add(new_alien)\n",
    "\n",
    "    def run_game(self):\n",
    "        \"\"\"Start the main loop for the game.\"\"\"\n",
    "        while True:\n",
    "            # Watch for keyboard and mouse events.\n",
    "            for event in pygame.event.get():\n",
    "                if event.type == pygame.QUIT:\n",
    "                    sys.exit()\n",
    "                if event.type == pygame.KEYDOWN:\n",
    "                    if event.key == pygame.K_RIGHT:\n",
    "                        self.ship.moving_right = True\n",
    "                elif event.type == pygame.KEYUP:\n",
    "                    if event.key == pygame.K_RIGHT:\n",
    "                        self.ship.moving_right = False\n",
    "\n",
    "            # Update positions of any characters that might be moving.\n",
    "            self.ship.update()\n",
    "            self.aliens.update()                                            # and here\n",
    "\n",
    "            self.screen.fill((255, 255, 255))\n",
    "            self.ship.blitme()\n",
    "            self.aliens.draw(self.screen)                                   # and here\n",
    "\n",
    "            # Make the most recently drawn screen visible.\n",
    "            pygame.display.flip()\n",
    "\n",
    "if __name__ == '__main__':\n",
    "    # Make a game instance, and run the game.\n",
    "    sh_game = SidewaysHero()\n",
    "    sh_game.run_game()"
   ]
  },
  {
   "cell_type": "markdown",
   "metadata": {},
   "source": [
    "When you call `update()` on a group, it automatically calls `update()` on every member of the group. Also, when you call `draw()`, it automatically calls `blitme()` for every member of the group."
   ]
  },
  {
   "cell_type": "markdown",
   "metadata": {},
   "source": [
    "You may need to reposition different characters after they've been created. Here's how you might do this, to make a column of alien ships. This code would be in your main game file, and it would create aliens with y values of 0, 50, 100, 150, and 200."
   ]
  },
  {
   "cell_type": "code",
   "execution_count": null,
   "metadata": {
    "collapsed": true
   },
   "outputs": [],
   "source": [
    "        # Make a column of 5 aliens\n",
    "        self.aliens = pygame.sprite.Group()\n",
    "        for alien_num in range(5):\n",
    "            new_alien = AlienShip(self)\n",
    "            new_alien.rect.y = alien_num * 50\n",
    "            self.aliens.add(new_alien)"
   ]
  },
  {
   "cell_type": "markdown",
   "metadata": {},
   "source": [
    "Stage 6: Collisions\n",
    "---\n",
    "\n",
    "It's much easier to detect and respond to collisions than you might realize. The following two lines detect any collisions between the ship and any alien in the group `aliens`. If there is a collision, we just move the ship far far off to the right (x=10_000, in a game window less than 1000 pixels wide). Effectively, this will make the ship disappear.\n",
    "\n",
    "This code goes in *sh_game.py*, which controls the overall game."
   ]
  },
  {
   "cell_type": "code",
   "execution_count": null,
   "metadata": {
    "collapsed": true
   },
   "outputs": [],
   "source": [
    "import sys\n",
    "\n",
    "import pygame\n",
    "\n",
    "from ship import Ship\n",
    "from alien_ship import AlienShip\n",
    "\n",
    "class SidewaysHero:\n",
    "    \"\"\"Overall class to manage game assets and behavior.\"\"\"\n",
    "\n",
    "    def __init__(self):\n",
    "        \"\"\"Initialize the game, and create game resources.\"\"\"\n",
    "        pygame.init()\n",
    "\n",
    "        self.screen = pygame.display.set_mode((1200, 800))\n",
    "        pygame.display.set_caption(\"Sideways Hero\")\n",
    "\n",
    "        self.ship = Ship(self)\n",
    "\n",
    "        # Make a group of three aliens.\n",
    "        self.aliens = pygame.sprite.Group()\n",
    "        for alien_num in range(30):\n",
    "            new_alien = AlienShip(self)\n",
    "            self.aliens.add(new_alien)\n",
    "\n",
    "    def run_game(self):\n",
    "        \"\"\"Start the main loop for the game.\"\"\"\n",
    "        while True:\n",
    "            # Watch for keyboard and mouse events.\n",
    "            for event in pygame.event.get():\n",
    "                if event.type == pygame.QUIT:\n",
    "                    sys.exit()\n",
    "                if event.type == pygame.KEYDOWN:\n",
    "                    if event.key == pygame.K_RIGHT:\n",
    "                        self.ship.moving_right = True\n",
    "                elif event.type == pygame.KEYUP:\n",
    "                    if event.key == pygame.K_RIGHT:\n",
    "                        self.ship.moving_right = False\n",
    "\n",
    "            # Update positions of any characters that might be moving.\n",
    "            self.ship.update()\n",
    "            self.aliens.update()\n",
    "\n",
    "            if pygame.sprite.spritecollideany(self.ship, self.aliens):                   # Look here.\n",
    "                self.ship.rect.x = 10000\n",
    "\n",
    "            self.screen.fill((255, 255, 255))\n",
    "            self.ship.blitme()\n",
    "            self.aliens.draw(self.screen)\n",
    "\n",
    "            # Make the most recently drawn screen visible.\n",
    "            pygame.display.flip()\n",
    "\n",
    "if __name__ == '__main__':\n",
    "    # Make a game instance, and run the game.\n",
    "    sh_game = SidewaysHero()\n",
    "    sh_game.run_game()"
   ]
  },
  {
   "cell_type": "markdown",
   "metadata": {},
   "source": [
    "In your game, you'll probably want to do some other things once the collision has occured:\n",
    "\n",
    "- decrease the number of ships the player has\n",
    "  - you can set a variable named something like `ships_left = 3` and count down to 0, then end the game\n",
    "- increase points\n",
    "- make new aliens appear on the right\n",
    "- show an explosion\n",
    "- play a sound\n",
    "\n",
    "You may also need to know how to detect collisions between two sprites, or between two groups of sprites."
   ]
  },
  {
   "cell_type": "markdown",
   "metadata": {},
   "source": [
    "Stage 7: Speeding Up (Optional)\n",
    "---\n",
    "\n",
    "Or otherwise responding to finishing a level"
   ]
  }
 ],
 "metadata": {
  "kernelspec": {
   "display_name": "Python 3",
   "language": "python",
   "name": "python3"
  },
  "language_info": {
   "codemirror_mode": {
    "name": "ipython",
    "version": 3
   },
   "file_extension": ".py",
   "mimetype": "text/x-python",
   "name": "python",
   "nbconvert_exporter": "python",
   "pygments_lexer": "ipython3",
   "version": "3.6.1"
  }
 },
 "nbformat": 4,
 "nbformat_minor": 2
}
