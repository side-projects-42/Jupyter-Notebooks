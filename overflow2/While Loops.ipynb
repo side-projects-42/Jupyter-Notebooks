{
 "cells": [
  {
   "cell_type": "markdown",
   "metadata": {},
   "source": [
    "While Loops\n",
    "===\n",
    "\n",
    "Once you understand `for` loops, `while` loops are pretty straightforward. They run as long as a certain condition is true.\n",
    "\n",
    "They can be used to make something run \"forever\", until the user decides to quit. Or they can be used to run a block of code as long as it takes until a specific condition is reached.\n",
    "\n"
   ]
  },
  {
   "cell_type": "code",
   "execution_count": null,
   "metadata": {},
   "outputs": [],
   "source": [
    "# Simple example.\n",
    "while True:\n",
    "    print(\"Philip, you're the greatest!\")\n",
    "    \n",
    "# This runs forever, until it fills the computer's memory."
   ]
  },
  {
   "cell_type": "markdown",
   "metadata": {},
   "source": [
    "Breaking a loop.\n",
    "---"
   ]
  },
  {
   "cell_type": "code",
   "execution_count": 1,
   "metadata": {},
   "outputs": [
    {
     "name": "stdout",
     "output_type": "stream",
     "text": [
      "The game is playing.\n"
     ]
    }
   ],
   "source": [
    "# How it's used in a game.\n",
    "\n",
    "game_active = True\n",
    "\n",
    "you_died = False\n",
    "you_got_hit = True\n",
    "player_pressed_quit = False\n",
    "\n",
    "while game_active:\n",
    "    print(\"The game is playing.\")\n",
    "    if you_died:\n",
    "        break\n",
    "    elif you_got_hit:\n",
    "        break\n",
    "    elif player_pressed_quit:\n",
    "        break"
   ]
  },
  {
   "cell_type": "code",
   "execution_count": null,
   "metadata": {
    "collapsed": true
   },
   "outputs": [],
   "source": []
  }
 ],
 "metadata": {
  "kernelspec": {
   "display_name": "Python 3",
   "language": "python",
   "name": "python3"
  },
  "language_info": {
   "codemirror_mode": {
    "name": "ipython",
    "version": 3
   },
   "file_extension": ".py",
   "mimetype": "text/x-python",
   "name": "python",
   "nbconvert_exporter": "python",
   "pygments_lexer": "ipython3",
   "version": "3.6.1"
  }
 },
 "nbformat": 4,
 "nbformat_minor": 2
}
