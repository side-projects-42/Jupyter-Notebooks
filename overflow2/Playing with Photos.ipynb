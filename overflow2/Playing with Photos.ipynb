{
 "cells": [
  {
   "cell_type": "markdown",
   "metadata": {},
   "source": [
    "Playing with Photos\n",
    "---\n",
    "\n",
    "In this project, we'll load the pixels from an image and then manipulate those pixels to create a variety of effects.\n",
    "\n",
    "Maybe: two simple pixel manipulations, one that examines neighbor pixels?"
   ]
  },
  {
   "cell_type": "markdown",
   "metadata": {},
   "source": [
    "We'll start by using this wonderful image:\n",
    "\n",
    "![](photo_project_images/willie_crab.jpg)"
   ]
  },
  {
   "cell_type": "markdown",
   "metadata": {},
   "source": [
    "Loading all pixels\n",
    "---\n",
    "\n",
    "Start by making a folder called *photo_filter_1*. Save a photo you want to work with in this folder.\n",
    "\n",
    "Also, to do this project you'll need to install the Python image library called `pillow`. Do this on a Windows command line:\n",
    "\n",
    "    > python -m pip install --user pillow\n",
    "\n",
    "The following code loads all the pixels in an image. It then creates a blank white image with the same dimensions as the original image, and saves this image under a different filename. Run this code, and see if you get a new image file that's all white in your project folder."
   ]
  },
  {
   "cell_type": "code",
   "execution_count": 2,
   "metadata": {},
   "outputs": [
    {
     "name": "stdout",
     "output_type": "stream",
     "text": [
      "Original image: RGB (1632, 1224)\n",
      "Saved modified_willie_crab.jpg.\n"
     ]
    }
   ],
   "source": [
    "from PIL import Image\n",
    "\n",
    "filename = 'willie_crab.jpg'                                           # Use your photo's filename here.\n",
    "\n",
    "# Read in original image.\n",
    "orig_img = Image.open(filename)\n",
    "print(\"Original image:\", orig_img.mode, orig_img.size)\n",
    "\n",
    "# Load pixels.\n",
    "#  This code loads all the pixels from the original image.\n",
    "pixel_map = orig_img.load()\n",
    "\n",
    "# This code creates a new image that matches the size of the original\n",
    "#  image. It also sets all the pixels in the new image to white.\n",
    "new_img = Image.new(orig_img.mode, orig_img.size, 'white')\n",
    "# new_img_pixel_map = new_img.load()\n",
    "\n",
    "# Show the image.\n",
    "new_img.show()\n",
    "\n",
    "# Save the image.\n",
    "new_filename = f\"modified_{filename}\"\n",
    "new_img.save(new_filename)\n",
    "print(f\"Saved {new_filename}.\")"
   ]
  },
  {
   "cell_type": "markdown",
   "metadata": {},
   "source": [
    "Stage 2: Making an exact copy of the image\n",
    "---\n",
    "\n",
    "Close everything that's open, and make a copy of the folder *photo_filter_1*. Rename the new folder to *photo_filter_2*. This way if you mess things up, you don't have to start over."
   ]
  },
  {
   "cell_type": "code",
   "execution_count": 3,
   "metadata": {},
   "outputs": [
    {
     "name": "stdout",
     "output_type": "stream",
     "text": [
      "Original image: RGB (1632, 1224)\n",
      "Saved modified_willie_crab.jpg.\n"
     ]
    }
   ],
   "source": [
    "from PIL import Image\n",
    "\n",
    "filename = 'willie_crab.jpg'\n",
    "\n",
    "# Read in original image.\n",
    "orig_img = Image.open(filename)\n",
    "print(\"Original image:\", orig_img.mode, orig_img.size)\n",
    "\n",
    "# Load pixels.\n",
    "#  This code loads all the pixels from the original image.\n",
    "pixel_map = orig_img.load()\n",
    "\n",
    "# This code creates a new image that matches the size of the original\n",
    "#  image. It also sets all the pixels in the new image to white.\n",
    "new_img = Image.new(orig_img.mode, orig_img.size, 'white')\n",
    "\n",
    "# Get all the pixels in the new image.\n",
    "#  We're free to change these pixels in any way we want.\n",
    "#  First, we'll just copy the old pixels to the new image.\n",
    "new_img_pixel_map = new_img.load()\n",
    "\n",
    "# Modify each pixel in the new image.                                            # Look here\n",
    "for x in range(orig_img.size[0]):                                                #  ...\n",
    "    for y in range(orig_img.size[1]):\n",
    "        \n",
    "        # This gets the original r, g, and b values\n",
    "        r = pixel_map[x,y][0]\n",
    "        g = pixel_map[x,y][1]\n",
    "        b = pixel_map[x,y][2]\n",
    "\n",
    "        # This sets the new r, g, and b values to match the old ones.\n",
    "        new_r = r\n",
    "        new_g = g\n",
    "        new_b = b\n",
    "\n",
    "        # This places each new pixel on the new image's pixel map.\n",
    "        new_img_pixel_map[x, y] = (new_r, new_g, new_b)                         # to here.\n",
    "\n",
    "# Show the image.\n",
    "new_img.show()\n",
    "\n",
    "# Save the image.\n",
    "new_filename = f\"modified_{filename}\"\n",
    "new_img.save(new_filename)\n",
    "print(f\"Saved {new_filename}.\")"
   ]
  },
  {
   "cell_type": "markdown",
   "metadata": {},
   "source": [
    "The copy is just as good as the original:\n",
    "\n",
    "![](photo_project_images/willie_crab_copy.jpg)"
   ]
  },
  {
   "cell_type": "markdown",
   "metadata": {},
   "source": [
    "Stage 3: Modifying the image\n",
    "---\n",
    "\n",
    "Now we can make any changes to the image we want. Let's make it really simple by making all the new r, g, and b values the same. If they're all the same, we should only see shades of gray."
   ]
  },
  {
   "cell_type": "code",
   "execution_count": 4,
   "metadata": {},
   "outputs": [
    {
     "name": "stdout",
     "output_type": "stream",
     "text": [
      "Original image: RGB (1632, 1224)\n",
      "Saved modified_willie_crab.jpg.\n"
     ]
    }
   ],
   "source": [
    "from PIL import Image\n",
    "\n",
    "filename = 'willie_crab.jpg'\n",
    "\n",
    "# Read in original image.\n",
    "orig_img = Image.open(filename)\n",
    "print(\"Original image:\", orig_img.mode, orig_img.size)\n",
    "\n",
    "# Load pixels.\n",
    "#  This code loads all the pixels from the original image.\n",
    "pixel_map = orig_img.load()\n",
    "\n",
    "# This code creates a new image that matches the size of the original\n",
    "#  image. It also sets all the pixels in the new image to white.\n",
    "new_img = Image.new(orig_img.mode, orig_img.size, 'white')\n",
    "\n",
    "# Get all the pixels in the new image.\n",
    "#  We're free to change these pixels in any way we want.\n",
    "#  First, we'll just copy the old pixels to the new image.\n",
    "new_img_pixel_map = new_img.load()\n",
    "\n",
    "# Modify each pixel in the new image.\n",
    "for x in range(orig_img.size[0]):\n",
    "    for y in range(orig_img.size[1]):\n",
    "        \n",
    "        # This gets the original r, g, and b values\n",
    "        r = pixel_map[x,y][0]\n",
    "        g = pixel_map[x,y][1]\n",
    "        b = pixel_map[x,y][2]\n",
    "\n",
    "        # This finds the average of the three rgb values, and uses that\n",
    "        #  for each of the new rgb values.\n",
    "        #  The // operator is normal division, but then only keeps the integer part of the quotient.\n",
    "        avg_rgb = (r + g + b)//3\n",
    "        new_r = avg_rgb\n",
    "        new_g = avg_rgb\n",
    "        new_b = avg_rgb\n",
    "\n",
    "        # This places each new pixel on the new image's pixel map.\n",
    "        new_img_pixel_map[x, y] = (new_r, new_g, new_b)\n",
    "\n",
    "# Show the image.\n",
    "new_img.show()\n",
    "\n",
    "# Save the image.\n",
    "new_filename = f\"modified_{filename}\"\n",
    "new_img.save(new_filename)\n",
    "print(f\"Saved {new_filename}.\")"
   ]
  },
  {
   "cell_type": "markdown",
   "metadata": {},
   "source": [
    "Here's the output:\n",
    "\n",
    "![](photo_project_images/willie_crab_bw_avg.jpg)"
   ]
  },
  {
   "cell_type": "markdown",
   "metadata": {},
   "source": [
    "Depending on how you do the conversion process, you can get different interpretations of the original image in black and white:\n",
    "\n",
    "![](photo_project_images/willie_crab_bw_r.jpg)\n",
    "![](photo_project_images/willie_crab_bw_b.jpg)\n",
    "![](photo_project_images/willie_crab_bw_max.jpg)\n",
    "![](photo_project_images/willie_crab_bw_min.jpg)\n"
   ]
  },
  {
   "cell_type": "markdown",
   "metadata": {},
   "source": [
    "Now that you've seen this, in what ways do you want to modify the original image?"
   ]
  }
 ],
 "metadata": {
  "kernelspec": {
   "display_name": "Python 3",
   "language": "python",
   "name": "python3"
  },
  "language_info": {
   "codemirror_mode": {
    "name": "ipython",
    "version": 3
   },
   "file_extension": ".py",
   "mimetype": "text/x-python",
   "name": "python",
   "nbconvert_exporter": "python",
   "pygments_lexer": "ipython3",
   "version": "3.6.1"
  }
 },
 "nbformat": 4,
 "nbformat_minor": 2
}
